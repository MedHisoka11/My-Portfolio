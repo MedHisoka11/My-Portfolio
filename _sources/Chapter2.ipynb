{
 "cells": [
  {
   "cell_type": "markdown",
   "id": "b22db022-2f2f-4a51-9896-e503faa13f2d",
   "metadata": {},
   "source": [
    "## Hello my name is Mohamed Abara"
   ]
  },
  {
   "cell_type": "code",
   "execution_count": null,
   "id": "abd7a3b5-26f0-4660-9d0f-1f2cca2aa838",
   "metadata": {},
   "outputs": [],
   "source": []
  }
 ],
 "metadata": {
  "kernelspec": {
   "display_name": "Python 3 (ipykernel)",
   "language": "python",
   "name": "python3"
  },
  "language_info": {
   "codemirror_mode": {
    "name": "ipython",
    "version": 3
   },
   "file_extension": ".py",
   "mimetype": "text/x-python",
   "name": "python",
   "nbconvert_exporter": "python",
   "pygments_lexer": "ipython3",
   "version": "3.9.12"
  }
 },
 "nbformat": 4,
 "nbformat_minor": 5
}
